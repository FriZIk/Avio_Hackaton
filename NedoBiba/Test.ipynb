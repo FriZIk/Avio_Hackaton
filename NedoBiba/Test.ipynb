{
 "cells": [
  {
   "cell_type": "markdown",
   "metadata": {
    "id": "view-in-github",
    "colab_type": "text"
   },
   "source": [
    "<a href=\"https://colab.research.google.com/github/FriZIk/Avio_Hackaton/blob/master/Test.ipynb\" target=\"_parent\"><img src=\"https://colab.research.google.com/assets/colab-badge.svg\" alt=\"Open In Colab\"/></a>"
   ]
  },
  {
   "cell_type": "code",
   "execution_count": 0,
   "metadata": {
    "id": "XXm3XdrxC4nX",
    "colab_type": "code",
    "colab": {}
   },
   "outputs": [],
   "source": [
    "ewqdewqdewq\\\n"
   ]
  },
  {
   "cell_type": "markdown",
   "metadata": {
    "id": "SpV9o103DEZl",
    "colab_type": "text"
   },
   "source": [
    "# New Section"
   ]
  }
 ],
 "metadata": {
  "colab": {
   "name": "Untitled1.ipynb",
   "provenance": [],
   "authorship_tag": "ABX9TyOtlfB7VsDeaSQkD67+YwEu",
   "include_colab_link": true
  },
  "kernelspec": {
   "name": "python3",
   "display_name": "Python 3"
  }
 },
 "nbformat": 4,
 "nbformat_minor": 0
}
